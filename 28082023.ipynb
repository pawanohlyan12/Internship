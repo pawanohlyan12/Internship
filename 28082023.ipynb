{
 "cells": [
  {
   "cell_type": "markdown",
   "id": "9f37fb49",
   "metadata": {},
   "source": [
    "# Answer-1"
   ]
  },
  {
   "cell_type": "code",
   "execution_count": 186,
   "id": "a63575b5",
   "metadata": {},
   "outputs": [
    {
     "name": "stdout",
     "output_type": "stream",
     "text": [
      "Python:Exercises::PHP:exercises:\n"
     ]
    }
   ],
   "source": [
    "import re\n",
    "text = 'Python Exercises, PHP exercises.'\n",
    "print(re.sub(\"[ ,.]\", \":\", text))"
   ]
  },
  {
   "cell_type": "markdown",
   "id": "d97f9b1f",
   "metadata": {},
   "source": [
    "Answer-2"
   ]
  },
  {
   "cell_type": "code",
   "execution_count": 187,
   "id": "5203d399",
   "metadata": {},
   "outputs": [
    {
     "name": "stdout",
     "output_type": "stream",
     "text": [
      "['an', 'ace', 'agency', 'as', 'ained', 'ever', 'entific', 'ata', 'explored', 'ar', 'egion', 'arking', 'ajor', 'ess', 'andrayaan']\n"
     ]
    }
   ],
   "source": [
    "import re\n",
    "# Input.\n",
    "text = \"The Indian space agency has obtained the first ever scientific data from the Moon's unexplored South Polar region, marking a major success of its Chandrayaan-3 mission.\"\n",
    "#find all the words starting with 'a' or 'e'\n",
    "list = re.findall(\"[ae]\\w+\", text)\n",
    "# Print result.\n",
    "print(list)"
   ]
  },
  {
   "cell_type": "markdown",
   "id": "f5bbd10c",
   "metadata": {},
   "source": [
    "Answer-3"
   ]
  },
  {
   "cell_type": "code",
   "execution_count": 188,
   "id": "5095af8f",
   "metadata": {},
   "outputs": [
    {
     "name": "stdout",
     "output_type": "stream",
     "text": [
      "['Indian', 'space', 'agency', 'obtained', 'first', 'ever', 'scientific', 'data', 'from', 'Moon', 'unexplored', 'South', 'Polar', 'region', 'marking', 'major', 'success', 'Chandrayaan', 'mission']\n"
     ]
    }
   ],
   "source": [
    "import re\n",
    "# input text\n",
    "text = 'The Indian space agency has obtained the first ever scientific data from the Moon unexplored South Polar region, marking a major success of its Chandrayaan-3 mission.'\n",
    "#Print result.\n",
    "print(re.findall(r\"\\b\\w{4,}\\b\", text))"
   ]
  },
  {
   "cell_type": "markdown",
   "id": "7133bcca",
   "metadata": {},
   "source": [
    "Answer-4"
   ]
  },
  {
   "cell_type": "code",
   "execution_count": 189,
   "id": "cdcbb792",
   "metadata": {},
   "outputs": [
    {
     "name": "stdout",
     "output_type": "stream",
     "text": [
      "The\n",
      "probe\n",
      "the\n",
      "how\n",
      "near\n",
      "and\n",
      "the\n",
      "lunar\n"
     ]
    }
   ],
   "source": [
    "import re\n",
    "\n",
    "def find_words_three_to_five_length(input_text):\n",
    "    pattern = re.compile(r'\\b\\w{3,5}\\b')\n",
    "    matches = pattern.findall(input_text)\n",
    "    return matches\n",
    "\n",
    "sample_text = \"The thermal probe of the Vikram lander recorded how temperature varies at surface, near surface and deeper on the lunar surface.\"\n",
    "result = find_words_three_to_five_length(sample_text)\n",
    "\n",
    "for word in result:\n",
    "    print(word)"
   ]
  },
  {
   "cell_type": "markdown",
   "id": "028751f8",
   "metadata": {},
   "source": [
    "Answer-5"
   ]
  },
  {
   "cell_type": "code",
   "execution_count": 211,
   "id": "b11c80f1",
   "metadata": {},
   "outputs": [
    {
     "name": "stdout",
     "output_type": "stream",
     "text": [
      "example\n",
      "hr@fliprobo\n",
      "github\n",
      "Hello\n",
      "Data\n"
     ]
    }
   ],
   "source": [
    "import re\n",
    "\n",
    "def remove_parentheses(strings_list):\n",
    "    pattern = re.compile(r'\\s?\\([^)]*\\)')\n",
    "    cleaned_strings = [pattern.sub('', s) for s in strings_list]\n",
    "    return cleaned_strings\n",
    "sample_strings = [\n",
    "    \"example (.com)\",\n",
    "    \"hr@fliprobo (.com)\",\n",
    "    \"github (.com)\",\n",
    "    \"Hello (Data Science World)\",\n",
    "    \"Data (Scientist)\"\n",
    "]\n",
    "\n",
    "cleaned_result = remove_parentheses(sample_strings)\n",
    "\n",
    "for cleaned_string in cleaned_result:\n",
    "    print(cleaned_string)"
   ]
  },
  {
   "cell_type": "markdown",
   "id": "766f1513",
   "metadata": {},
   "source": [
    "Answer-6"
   ]
  },
  {
   "cell_type": "code",
   "execution_count": 229,
   "id": "da81f012",
   "metadata": {},
   "outputs": [
    {
     "name": "stdout",
     "output_type": "stream",
     "text": [
      "Expected Output:\n",
      "[\"example\", \"hr@fliprobo\", \"github\", \"Hello\", \"Data\"]\n"
     ]
    }
   ],
   "source": [
    "import re\n",
    "\n",
    "def remove_parentheses(text):\n",
    "    # Regular expression pattern to match and remove content within parentheses\n",
    "    pattern = r'\\s?\\([^)]*\\)'\n",
    "    modified_text = re.sub(pattern, '', text)\n",
    "    return modified_text\n",
    "\n",
    "def main():\n",
    "    input_file_path = '28082023.txt'\n",
    "\n",
    "    try:\n",
    "        # Read the input text from the file\n",
    "        with open(input_file_path, 'r') as input_file:\n",
    "            input_text = input_file.read()\n",
    "\n",
    "        # Split the input text into lines\n",
    "        lines = input_text.strip().split('\\n')\n",
    "\n",
    "        # Remove content within parentheses for each line using the defined function\n",
    "        modified_lines = [remove_parentheses(line) for line in lines]\n",
    "\n",
    "        # Print the expected output\n",
    "        print(\"Expected Output:\")\n",
    "        for line in modified_lines:\n",
    "            print(line)\n",
    "\n",
    "    except FileNotFoundError:\n",
    "        print(\"Input file not found.\")\n",
    "\n",
    "if __name__ == \"__main__\":\n",
    "    main()"
   ]
  },
  {
   "cell_type": "markdown",
   "id": "0f8cbff5",
   "metadata": {},
   "source": [
    "Answer-7"
   ]
  },
  {
   "cell_type": "code",
   "execution_count": 199,
   "id": "81a68c0b",
   "metadata": {},
   "outputs": [
    {
     "name": "stdout",
     "output_type": "stream",
     "text": [
      "['Importance', 'Of', 'Regular', 'Expressions', 'In', 'Python']\n"
     ]
    }
   ],
   "source": [
    "import re\n",
    "\n",
    "sample_text = \"Importance Of Regular Expressions In Python\"\n",
    "uppercase_words = re.split(r'(?=[A-Z])', sample_text)\n",
    "uppercase_words = [word.strip() for word in uppercase_words if word.strip()]\n",
    "\n",
    "print(uppercase_words)"
   ]
  },
  {
   "cell_type": "markdown",
   "id": "93f9fd67",
   "metadata": {},
   "source": [
    "Answer-8"
   ]
  },
  {
   "cell_type": "code",
   "execution_count": 200,
   "id": "ed1af76c",
   "metadata": {},
   "outputs": [
    {
     "name": "stdout",
     "output_type": "stream",
     "text": [
      "RegularExpression 1 IsAn 2 ImportantTopic 3 InPython\n"
     ]
    }
   ],
   "source": [
    "import re\n",
    "\n",
    "def insert_spaces_between_numbers_and_words(input_text):\n",
    "    pattern = re.compile(r'(?<=[a-zA-Z])(?=\\d)|(?<=\\d)(?=[a-zA-Z])')\n",
    "    modified_text = pattern.sub(' ', input_text)\n",
    "    return modified_text\n",
    "\n",
    "sample_text = \"RegularExpression1IsAn2ImportantTopic3InPython\"\n",
    "modified_result = insert_spaces_between_numbers_and_words(sample_text)\n",
    "print(modified_result)"
   ]
  },
  {
   "cell_type": "markdown",
   "id": "1bd14d57",
   "metadata": {},
   "source": [
    "Answer-9"
   ]
  },
  {
   "cell_type": "code",
   "execution_count": 201,
   "id": "8cb5d462",
   "metadata": {},
   "outputs": [
    {
     "name": "stdout",
     "output_type": "stream",
     "text": [
      "Regular Expression 1 Is An 2 Important Topic 3 In Python\n"
     ]
    }
   ],
   "source": [
    "import re\n",
    "\n",
    "def insert_spaces_between_capital_letters_and_numbers(input_text):\n",
    "    pattern = re.compile(r'(?<=[a-zA-Z0-9])(?=[A-Z])|(?<=[a-zA-Z])(?=\\d)|(?<=\\d)(?=[a-zA-Z])')\n",
    "    modified_text = pattern.sub(' ', input_text)\n",
    "    return modified_text\n",
    "\n",
    "sample_text = \"RegularExpression1IsAn2ImportantTopic3InPython\"\n",
    "modified_result = insert_spaces_between_capital_letters_and_numbers(sample_text)\n",
    "print(modified_result)"
   ]
  },
  {
   "cell_type": "markdown",
   "id": "a073e0bd",
   "metadata": {},
   "source": [
    "Answer-10"
   ]
  },
  {
   "cell_type": "code",
   "execution_count": 230,
   "id": "192ff254",
   "metadata": {},
   "outputs": [
    {
     "name": "stdout",
     "output_type": "stream",
     "text": [
      "Expected Output:\n",
      "xyz@domain.com\n",
      "xyz.abc@sdomain.domain.com\n",
      "hr@fliprobo.com\n"
     ]
    }
   ],
   "source": [
    "import re\n",
    "\n",
    "def extract_emails(text):\n",
    "    # Regular expression pattern to match email addresses\n",
    "    pattern = r'\\b[A-Za-z0-9._%+-]+@[A-Za-z0-9.-]+\\.[A-Z|a-z]{2,7}\\b'\n",
    "    email_addresses = re.findall(pattern, text)\n",
    "    return email_addresses\n",
    "\n",
    "def main():\n",
    "    input_file_path = '28082023 email.txt'\n",
    "\n",
    "    try:\n",
    "        # Read the input text from the file\n",
    "        with open(input_file_path, 'r') as input_file:\n",
    "            input_text = input_file.read()\n",
    "\n",
    "        # Extract email addresses from the input text using the defined function\n",
    "        email_addresses = extract_emails(input_text)\n",
    "\n",
    "        # Print the expected output\n",
    "        print(\"Expected Output:\")\n",
    "        for email in email_addresses:\n",
    "            print(email)\n",
    "\n",
    "    except FileNotFoundError:\n",
    "        print(\"Input file not found.\")\n",
    "\n",
    "if __name__ == \"__main__\":\n",
    "    main()\n"
   ]
  },
  {
   "cell_type": "markdown",
   "id": "8e52f180",
   "metadata": {},
   "source": [
    "Answer-11"
   ]
  },
  {
   "cell_type": "code",
   "execution_count": 203,
   "id": "7d296e1f",
   "metadata": {},
   "outputs": [
    {
     "name": "stdout",
     "output_type": "stream",
     "text": [
      "'Valid_String123' is a valid string.\n",
      "'invalid@string' is not a valid string.\n",
      "'Another_valid_String_456' is a valid string.\n",
      "'spaces not allowed' is not a valid string.\n"
     ]
    }
   ],
   "source": [
    "import re\n",
    "\n",
    "def is_valid_string(input_string):\n",
    "    pattern = re.compile(r'^[a-zA-Z0-9_]*$')\n",
    "    return bool(pattern.match(input_string))\n",
    "\n",
    "test_strings = [\n",
    "    \"Valid_String123\",\n",
    "    \"invalid@string\",\n",
    "    \"Another_valid_String_456\",\n",
    "    \"spaces not allowed\"\n",
    "]\n",
    "\n",
    "for test_string in test_strings:\n",
    "    if is_valid_string(test_string):\n",
    "        print(f\"'{test_string}' is a valid string.\")\n",
    "    else:\n",
    "        print(f\"'{test_string}' is not a valid string.\")"
   ]
  },
  {
   "cell_type": "markdown",
   "id": "3b4d28c2",
   "metadata": {},
   "source": [
    "Answer-12"
   ]
  },
  {
   "cell_type": "code",
   "execution_count": 204,
   "id": "0d2beca8",
   "metadata": {},
   "outputs": [
    {
     "name": "stdout",
     "output_type": "stream",
     "text": [
      "'12345abc' starts with 123.\n",
      "'456def' does not start with 123.\n",
      "'789xyz' does not start with 123.\n",
      "'abc123' does not start with 123.\n"
     ]
    }
   ],
   "source": [
    "def starts_with_number(input_string, number):\n",
    "    return input_string.startswith(str(number))\n",
    "\n",
    "test_strings = [\n",
    "    \"12345abc\",\n",
    "    \"456def\",\n",
    "    \"789xyz\",\n",
    "    \"abc123\"\n",
    "]\n",
    "\n",
    "specific_number = 123\n",
    "\n",
    "for test_string in test_strings:\n",
    "    if starts_with_number(test_string, specific_number):\n",
    "        print(f\"'{test_string}' starts with {specific_number}.\")\n",
    "    else:\n",
    "        print(f\"'{test_string}' does not start with {specific_number}.\")"
   ]
  },
  {
   "cell_type": "markdown",
   "id": "236a25de",
   "metadata": {},
   "source": [
    "Answer-13"
   ]
  },
  {
   "cell_type": "code",
   "execution_count": 205,
   "id": "3bb10bbc",
   "metadata": {},
   "outputs": [
    {
     "name": "stdout",
     "output_type": "stream",
     "text": [
      "216.8.94.196\n"
     ]
    }
   ],
   "source": [
    "import re\n",
    "ip = \"216.08.094.196\"\n",
    "string = re.sub('\\.[0]*', '.', ip)\n",
    "print(string)"
   ]
  },
  {
   "cell_type": "markdown",
   "id": "b8204557",
   "metadata": {},
   "source": [
    "Answer-14"
   ]
  },
  {
   "cell_type": "code",
   "execution_count": 231,
   "id": "90bafbce",
   "metadata": {},
   "outputs": [
    {
     "name": "stdout",
     "output_type": "stream",
     "text": [
      "Expected Output:\n",
      "August 15th 1947\n"
     ]
    }
   ],
   "source": [
    "import re\n",
    "\n",
    "def extract_dates(text):\n",
    "    # Regular expression pattern to match date strings in the specified format\n",
    "    pattern = r'\\b(?:January|February|March|April|May|June|July|August|September|October|November|December)\\s+\\d{1,2}(?:st|nd|rd|th)?\\s+\\d{4}\\b'\n",
    "    dates = re.findall(pattern, text)\n",
    "    return dates\n",
    "\n",
    "def main():\n",
    "    input_file_path = '28082023 dob.txt'\n",
    "\n",
    "    try:\n",
    "        # Read the input text from the file\n",
    "        with open(input_file_path, 'r') as input_file:\n",
    "            input_text = input_file.read()\n",
    "\n",
    "        # Extract date strings in the specified format using the defined function\n",
    "        date_strings = extract_dates(input_text)\n",
    "\n",
    "        # Print the expected output\n",
    "        print(\"Expected Output:\")\n",
    "        for date_string in date_strings:\n",
    "            print(date_string)\n",
    "\n",
    "    except FileNotFoundError:\n",
    "        print(\"Input file not found.\")\n",
    "\n",
    "if __name__ == \"__main__\":\n",
    "    main()\n"
   ]
  },
  {
   "cell_type": "markdown",
   "id": "1dabd905",
   "metadata": {},
   "source": [
    "Answer-15"
   ]
  },
  {
   "cell_type": "code",
   "execution_count": 232,
   "id": "add2f06e",
   "metadata": {},
   "outputs": [
    {
     "name": "stdout",
     "output_type": "stream",
     "text": [
      "Found words: ['fox', 'dog']\n"
     ]
    }
   ],
   "source": [
    "def search_words(text, words):\n",
    "    found_words = []\n",
    "    for word in words:\n",
    "        if word in text:\n",
    "            found_words.append(word)\n",
    "    return found_words\n",
    "\n",
    "def main():\n",
    "    sample_text = 'The quick brown fox jumps over the lazy dog.'\n",
    "    searched_words = ['fox', 'dog', 'horse']\n",
    "\n",
    "    found_words = search_words(sample_text, searched_words)\n",
    "\n",
    "    print(\"Found words:\", found_words)\n",
    "\n",
    "if __name__ == \"__main__\":\n",
    "    main()\n"
   ]
  },
  {
   "cell_type": "markdown",
   "id": "5056af34",
   "metadata": {},
   "source": [
    "Answer-16"
   ]
  },
  {
   "cell_type": "code",
   "execution_count": 233,
   "id": "212d687b",
   "metadata": {},
   "outputs": [
    {
     "name": "stdout",
     "output_type": "stream",
     "text": [
      "'fox' found at positions: [16]\n"
     ]
    }
   ],
   "source": [
    "def search_and_find_locations(text, pattern):\n",
    "    found_locations = []\n",
    "    start = 0\n",
    "    while start < len(text):\n",
    "        index = text.find(pattern, start)\n",
    "        if index == -1:\n",
    "            break\n",
    "        found_locations.append(index)\n",
    "        start = index + 1\n",
    "    return found_locations\n",
    "\n",
    "def main():\n",
    "    sample_text = 'The quick brown fox jumps over the lazy dog.'\n",
    "    searched_word = 'fox'\n",
    "\n",
    "    found_locations = search_and_find_locations(sample_text, searched_word)\n",
    "\n",
    "    if found_locations:\n",
    "        print(f\"'{searched_word}' found at positions:\", found_locations)\n",
    "    else:\n",
    "        print(f\"'{searched_word}' not found in the text.\")\n",
    "\n",
    "if __name__ == \"__main__\":\n",
    "    main()\n"
   ]
  },
  {
   "cell_type": "markdown",
   "id": "25ddfbcd",
   "metadata": {},
   "source": [
    "Answer-17"
   ]
  },
  {
   "cell_type": "code",
   "execution_count": 236,
   "id": "a5cb4f93",
   "metadata": {},
   "outputs": [
    {
     "name": "stdout",
     "output_type": "stream",
     "text": [
      "Found \"exercises\"\n",
      "Found \"exercises\"\n",
      "Found \"exercises\"\n"
     ]
    }
   ],
   "source": [
    "import re\n",
    "text = 'Python exercises, PHP exercises, C# exercises'\n",
    "pattern = 'exercises'\n",
    "for match in re.findall(pattern, text):\n",
    "    print('Found \"%s\"' % match)"
   ]
  },
  {
   "cell_type": "markdown",
   "id": "c4e00d98",
   "metadata": {},
   "source": [
    "Answer-18"
   ]
  },
  {
   "cell_type": "code",
   "execution_count": 237,
   "id": "21473b44",
   "metadata": {},
   "outputs": [
    {
     "name": "stdout",
     "output_type": "stream",
     "text": [
      "Occurrences and positions of 'exercises':\n",
      "Substring: 'exercises' at position: 7\n",
      "Substring: 'exercises' at position: 22\n",
      "Substring: 'exercises' at position: 36\n"
     ]
    }
   ],
   "source": [
    "def find_occurrences_and_positions(text, substring):\n",
    "    occurrences = []\n",
    "    start = 0\n",
    "    while start < len(text):\n",
    "        index = text.find(substring, start)\n",
    "        if index == -1:\n",
    "            break\n",
    "        occurrences.append((substring, index))\n",
    "        start = index + 1\n",
    "    return occurrences\n",
    "\n",
    "def main():\n",
    "    sample_text = 'Python exercises, PHP exercises, C# exercises'\n",
    "    substring = 'exercises'\n",
    "\n",
    "    found_occurrences = find_occurrences_and_positions(sample_text, substring)\n",
    "\n",
    "    if found_occurrences:\n",
    "        print(f\"Occurrences and positions of '{substring}':\")\n",
    "        for occurrence in found_occurrences:\n",
    "            print(f\"Substring: '{occurrence[0]}' at position: {occurrence[1]}\")\n",
    "    else:\n",
    "        print(f\"No occurrences of '{substring}' found in the text.\")\n",
    "\n",
    "if __name__ == \"__main__\":\n",
    "    main()"
   ]
  },
  {
   "cell_type": "markdown",
   "id": "f5867987",
   "metadata": {},
   "source": [
    "Answer-19"
   ]
  },
  {
   "cell_type": "code",
   "execution_count": 238,
   "id": "cd2917e3",
   "metadata": {},
   "outputs": [
    {
     "name": "stdout",
     "output_type": "stream",
     "text": [
      "Enter a date in yyyy-mm-dd format: 1992-07-07\n",
      "Converted date: 07-07-1992\n"
     ]
    }
   ],
   "source": [
    "def convert_date_format(input_date):\n",
    "    parts = input_date.split('-')\n",
    "    if len(parts) != 3:\n",
    "        return \"Invalid date format\"\n",
    "\n",
    "    year, month, day = parts\n",
    "    output_date = f\"{day}-{month}-{year}\"\n",
    "    return output_date\n",
    "\n",
    "def main():\n",
    "    input_date = input(\"Enter a date in yyyy-mm-dd format: \")\n",
    "\n",
    "    converted_date = convert_date_format(input_date)\n",
    "\n",
    "    print(\"Converted date:\", converted_date)\n",
    "\n",
    "if __name__ == \"__main__\":\n",
    "    main()"
   ]
  },
  {
   "cell_type": "markdown",
   "id": "9f4df74a",
   "metadata": {},
   "source": [
    "Answer-20"
   ]
  },
  {
   "cell_type": "code",
   "execution_count": 241,
   "id": "299362bf",
   "metadata": {},
   "outputs": [
    {
     "name": "stdout",
     "output_type": "stream",
     "text": [
      "Decimal numbers with precision 1 or 2:\n",
      "01.12\n",
      "145.8\n",
      "3.01\n",
      "27.25\n",
      "0.25\n"
     ]
    }
   ],
   "source": [
    "import re\n",
    "\n",
    "def find_decimal_numbers(text):\n",
    "    pattern = re.compile(r'\\b\\d+\\.\\d{1,2}\\b')\n",
    "    decimal_numbers = pattern.findall(text)\n",
    "    return decimal_numbers\n",
    "\n",
    "def main():\n",
    "    sample_text = \"01.12 0132.123 2.31875 145.8 3.01 27.25 0.25\"\n",
    "\n",
    "    decimal_numbers = find_decimal_numbers(sample_text)\n",
    "\n",
    "    print(\"Decimal numbers with precision 1 or 2:\")\n",
    "    for number in decimal_numbers:\n",
    "        print(number)\n",
    "\n",
    "if __name__ == \"__main__\":\n",
    "    main()"
   ]
  },
  {
   "cell_type": "markdown",
   "id": "3a5ad4ac",
   "metadata": {},
   "source": [
    "Answer-21"
   ]
  },
  {
   "cell_type": "code",
   "execution_count": 243,
   "id": "6d4afc39",
   "metadata": {},
   "outputs": [
    {
     "name": "stdout",
     "output_type": "stream",
     "text": [
      "Numbers with their positions:\n",
      "Number: 786, Position: 13\n",
      "Number: 86, Position: 14\n",
      "Number: 6, Position: 15\n",
      "Number: 45.67, Position: 31\n",
      "Number: 5.67, Position: 32\n",
      "Number: 67, Position: 34\n",
      "Number: 7, Position: 35\n",
      "Number: 890, Position: 38\n",
      "Number: 90, Position: 39\n",
      "Number: 0, Position: 40\n"
     ]
    }
   ],
   "source": [
    "def separate_numbers(text):\n",
    "    numbers = []\n",
    "    for idx, char in enumerate(text):\n",
    "        if char.isdigit():\n",
    "            number = char\n",
    "            while idx + 1 < len(text) and (text[idx + 1].isdigit() or text[idx + 1] == '.'):\n",
    "                idx += 1\n",
    "                number += text[idx]\n",
    "            numbers.append((number, idx - len(number) + 1))\n",
    "    return numbers\n",
    "\n",
    "def main():\n",
    "    sample_text = \"Lucky Number 786 Decimal value 45.67, 890\"\n",
    "\n",
    "    numbers_with_positions = separate_numbers(sample_text)\n",
    "\n",
    "    print(\"Numbers with their positions:\")\n",
    "    for number, position in numbers_with_positions:\n",
    "        print(f\"Number: {number}, Position: {position}\")\n",
    "\n",
    "if __name__ == \"__main__\":\n",
    "    main()"
   ]
  },
  {
   "cell_type": "markdown",
   "id": "986bfd63",
   "metadata": {},
   "source": [
    "Answer-22"
   ]
  },
  {
   "cell_type": "code",
   "execution_count": 244,
   "id": "b1f10146",
   "metadata": {},
   "outputs": [
    {
     "name": "stdout",
     "output_type": "stream",
     "text": [
      "Substrings matching 'exercises': ['exercises', 'exercises', 'exercises']\n"
     ]
    }
   ],
   "source": [
    "import re\n",
    "\n",
    "def find_substrings(text, pattern):\n",
    "    substrings = re.findall(pattern, text)\n",
    "    return substrings\n",
    "\n",
    "def main():\n",
    "    sample_text = 'Python exercises, PHP exercises, C# exercises'\n",
    "    pattern = 'exercises'\n",
    "\n",
    "    found_substrings = find_substrings(sample_text, pattern)\n",
    "\n",
    "    if found_substrings:\n",
    "        print(f\"Substrings matching '{pattern}':\", found_substrings)\n",
    "    else:\n",
    "        print(f\"No substrings matching '{pattern}' found in the text.\")\n",
    "\n",
    "if __name__ == \"__main__\":\n",
    "    main()"
   ]
  },
  {
   "cell_type": "markdown",
   "id": "848ca012",
   "metadata": {},
   "source": [
    "Answer-23"
   ]
  },
  {
   "cell_type": "code",
   "execution_count": 245,
   "id": "8dce17e6",
   "metadata": {},
   "outputs": [
    {
     "name": "stdout",
     "output_type": "stream",
     "text": [
      "Original Text: RegularExpressionIsAnImportantTopicInPython\n",
      "Formatted Text: Regular Expression Is An Important Topic In Python\n"
     ]
    }
   ],
   "source": [
    "import re\n",
    "\n",
    "def insert_spaces(text):\n",
    "    spaced_text = re.sub(r'(?<=[a-z])([A-Z])', r' \\1', text)\n",
    "    return spaced_text\n",
    "\n",
    "def main():\n",
    "    sample_text = \"RegularExpressionIsAnImportantTopicInPython\"\n",
    "    spaced_text = insert_spaces(sample_text)\n",
    "    print(\"Original Text:\", sample_text)\n",
    "    print(\"Formatted Text:\", spaced_text)\n",
    "\n",
    "if __name__ == \"__main__\":\n",
    "    main()"
   ]
  },
  {
   "cell_type": "markdown",
   "id": "6f9b36ad",
   "metadata": {},
   "source": [
    "Answer-24"
   ]
  },
  {
   "cell_type": "code",
   "execution_count": 247,
   "id": "7c79493f",
   "metadata": {},
   "outputs": [
    {
     "name": "stdout",
     "output_type": "stream",
     "text": [
      "['My', 'Name', 'Is', 'Pawan', 'Kumar']\n"
     ]
    }
   ],
   "source": [
    "import re\n",
    "\n",
    "pattern = r'[A-Z][a-z]+'\n",
    "\n",
    "text = \"My NameIs PawanKumar\"\n",
    "matches = re.findall(pattern, text)\n",
    "\n",
    "print(matches)"
   ]
  },
  {
   "cell_type": "markdown",
   "id": "06254cc7",
   "metadata": {},
   "source": [
    "Answer-25"
   ]
  },
  {
   "cell_type": "code",
   "execution_count": 248,
   "id": "8b9fb5ca",
   "metadata": {},
   "outputs": [
    {
     "name": "stdout",
     "output_type": "stream",
     "text": [
      "Original Sentence: Hello hello world world\n",
      "Cleaned Sentence: Hello hello world\n"
     ]
    }
   ],
   "source": [
    "import re\n",
    "\n",
    "def remove_continuous_duplicates(sentence):\n",
    "    cleaned_sentence = re.sub(r'\\b(\\w+)( \\1)+\\b', r'\\1', sentence)\n",
    "    return cleaned_sentence\n",
    "\n",
    "def main():\n",
    "    sample_text = \"Hello hello world world\"\n",
    "    cleaned_text = remove_continuous_duplicates(sample_text)\n",
    "    print(\"Original Sentence:\", sample_text)\n",
    "    print(\"Cleaned Sentence:\", cleaned_text)\n",
    "\n",
    "if __name__ == \"__main__\":\n",
    "    main()"
   ]
  },
  {
   "cell_type": "markdown",
   "id": "e4dc3f6f",
   "metadata": {},
   "source": [
    "Answer-26"
   ]
  },
  {
   "cell_type": "code",
   "execution_count": 249,
   "id": "cfeb3a13",
   "metadata": {},
   "outputs": [
    {
     "name": "stdout",
     "output_type": "stream",
     "text": [
      "Enter a string: Pawan\n",
      "String ends with an alphanumeric character.\n"
     ]
    }
   ],
   "source": [
    "import re\n",
    "\n",
    "def ends_with_alphanumeric(input_string):\n",
    "    pattern = r'^.*[a-zA-Z0-9]$'\n",
    "    match = re.match(pattern, input_string)\n",
    "    return match is not None\n",
    "\n",
    "def main():\n",
    "    input_string = input(\"Enter a string: \")\n",
    "    \n",
    "    if ends_with_alphanumeric(input_string):\n",
    "        print(\"String ends with an alphanumeric character.\")\n",
    "    else:\n",
    "        print(\"String does not end with an alphanumeric character.\")\n",
    "\n",
    "if __name__ == \"__main__\":\n",
    "    main()"
   ]
  },
  {
   "cell_type": "markdown",
   "id": "fd993e6c",
   "metadata": {},
   "source": [
    "Answer-27"
   ]
  },
  {
   "cell_type": "code",
   "execution_count": 250,
   "id": "2463a315",
   "metadata": {},
   "outputs": [
    {
     "name": "stdout",
     "output_type": "stream",
     "text": [
      "Extracted Hashtags:\n",
      "#Doltiwal\n",
      "#xyzabc\n",
      "#Demonetization\n"
     ]
    }
   ],
   "source": [
    "import re\n",
    "\n",
    "def extract_hashtags(text):\n",
    "    hashtags = re.findall(r'#\\w+', text)\n",
    "    return hashtags\n",
    "\n",
    "def main():\n",
    "    sample_text = \"\"\"RT @kapil_kausik: #Doltiwal I mean #xyzabc is \"hurt\" by #Demonetization as the same has rendered USELESS <ed><U+00A0><U+00BD><ed><U+00B1><U+0089> \"acquired funds\" No wo\"\"\"\n",
    "    extracted_hashtags = extract_hashtags(sample_text)\n",
    "    \n",
    "    print(\"Extracted Hashtags:\")\n",
    "    for hashtag in extracted_hashtags:\n",
    "        print(hashtag)\n",
    "\n",
    "if __name__ == \"__main__\":\n",
    "    main()"
   ]
  },
  {
   "cell_type": "markdown",
   "id": "b3d92078",
   "metadata": {},
   "source": [
    "Answer-28"
   ]
  },
  {
   "cell_type": "code",
   "execution_count": 251,
   "id": "ec621859",
   "metadata": {},
   "outputs": [
    {
     "name": "stdout",
     "output_type": "stream",
     "text": [
      "Original Text: @Jags123456 Bharat band on 28??<ed><U+00A0><U+00BD><ed><U+00B8><U+0082>Those who  are protesting #demonetization  are all different party leaders\n",
      "Cleaned Text: @Jags123456 Bharat band on 28??<ed><ed>Those who  are protesting #demonetization  are all different party leaders\n"
     ]
    }
   ],
   "source": [
    "import re\n",
    "\n",
    "def remove_special_symbols(text):\n",
    "    pattern = r'<U\\+[A-Fa-f0-9]+>'\n",
    "    cleaned_text = re.sub(pattern, '', text)\n",
    "    return cleaned_text\n",
    "\n",
    "def main():\n",
    "    sample_text = \"@Jags123456 Bharat band on 28??<ed><U+00A0><U+00BD><ed><U+00B8><U+0082>Those who  are protesting #demonetization  are all different party leaders\"\n",
    "    cleaned_text = remove_special_symbols(sample_text)\n",
    "    \n",
    "    print(\"Original Text:\", sample_text)\n",
    "    print(\"Cleaned Text:\", cleaned_text)\n",
    "\n",
    "if __name__ == \"__main__\":\n",
    "    main()"
   ]
  },
  {
   "cell_type": "markdown",
   "id": "85d44ce8",
   "metadata": {},
   "source": [
    "Answer-29"
   ]
  },
  {
   "cell_type": "code",
   "execution_count": 253,
   "id": "c89f91ed",
   "metadata": {},
   "outputs": [
    {
     "name": "stdout",
     "output_type": "stream",
     "text": [
      "Extracted Dates:\n",
      "12-09-1992\n",
      "15-12-1999\n"
     ]
    }
   ],
   "source": [
    "import re\n",
    "\n",
    "def extract_dates(text):\n",
    "    pattern = r'\\d{2}-\\d{2}-\\d{4}'\n",
    "    dates = re.findall(pattern, text)\n",
    "    return dates\n",
    "\n",
    "def main():\n",
    "    input_file_path = '28082023 Ron.txt'\n",
    "\n",
    "    try:\n",
    "        # Read the input text from the file\n",
    "        with open(input_file_path, 'r') as input_file:\n",
    "            input_text = input_file.read()\n",
    "\n",
    "        # Extract dates from the input text using the defined function\n",
    "        extracted_dates = extract_dates(input_text)\n",
    "\n",
    "        # Print the extracted dates\n",
    "        print(\"Extracted Dates:\")\n",
    "        for date in extracted_dates:\n",
    "            print(date)\n",
    "\n",
    "    except FileNotFoundError:\n",
    "        print(\"Input file not found.\")\n",
    "\n",
    "if __name__ == \"__main__\":\n",
    "    main()"
   ]
  },
  {
   "cell_type": "markdown",
   "id": "db3f6e8b",
   "metadata": {},
   "source": [
    "Answer-30"
   ]
  },
  {
   "cell_type": "code",
   "execution_count": 254,
   "id": "c99f48b7",
   "metadata": {},
   "outputs": [
    {
     "name": "stdout",
     "output_type": "stream",
     "text": [
      "Original Text: The following example creates an ArrayList with a capacity of 50 elements. 4 elements are then added to the ArrayList and the ArrayList is trimmed accordingly.\n",
      "Cleaned Text:  following example creates  ArrayList  a capacity   elements. 4 elements   added   ArrayList   ArrayList  trimmed accordingly.\n"
     ]
    }
   ],
   "source": [
    "import re\n",
    "\n",
    "def remove_words_with_length_between_2_and_4(text):\n",
    "    pattern = re.compile(r'\\b\\w{2,4}\\b')\n",
    "    cleaned_text = pattern.sub('', text)\n",
    "    return cleaned_text\n",
    "\n",
    "def main():\n",
    "    sample_text = \"The following example creates an ArrayList with a capacity of 50 elements. 4 elements are then added to the ArrayList and the ArrayList is trimmed accordingly.\"\n",
    "    cleaned_text = remove_words_with_length_between_2_and_4(sample_text)\n",
    "    \n",
    "    print(\"Original Text:\", sample_text)\n",
    "    print(\"Cleaned Text:\", cleaned_text)\n",
    "\n",
    "if __name__ == \"__main__\":\n",
    "    main()"
   ]
  }
 ],
 "metadata": {
  "kernelspec": {
   "display_name": "Python 3 (ipykernel)",
   "language": "python",
   "name": "python3"
  },
  "language_info": {
   "codemirror_mode": {
    "name": "ipython",
    "version": 3
   },
   "file_extension": ".py",
   "mimetype": "text/x-python",
   "name": "python",
   "nbconvert_exporter": "python",
   "pygments_lexer": "ipython3",
   "version": "3.11.3"
  }
 },
 "nbformat": 4,
 "nbformat_minor": 5
}
